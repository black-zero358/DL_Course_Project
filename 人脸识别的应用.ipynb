{
 "cells": [
  {
   "cell_type": "markdown",
   "id": "83fc512e-c5e8-43dc-acfc-9f15854409e5",
   "metadata": {},
   "source": [
    "导入必要的库"
   ]
  },
  {
   "cell_type": "code",
   "execution_count": 1,
   "id": "206aab88-517d-4e7b-bda8-38519861c2a7",
   "metadata": {},
   "outputs": [],
   "source": [
    "from time import sleep\n",
    "from torch import nn\n",
    "import random\n",
    "import cv2\n",
    "import torch\n",
    "import os\n",
    "import numpy as np\n",
    "from PIL import Image\n",
    "import torchvision.transforms as transforms\n"
   ]
  },
  {
   "cell_type": "markdown",
   "id": "f1c14b49-e6f4-4d60-b697-59560b5d8633",
   "metadata": {},
   "source": [
    "设置设备和随机种子"
   ]
  },
  {
   "cell_type": "code",
   "execution_count": 2,
   "id": "c8ad29b3-e1ae-41cd-9ce2-bc310aa6c62a",
   "metadata": {},
   "outputs": [],
   "source": [
    "device = torch.device(\"cuda\" if torch.cuda.is_available() else \"cpu\")\n",
    "# 设备选择，如果有可用的CUDA设备则使用CUDA，否则使用CPU\n",
    "\n",
    "torch.manual_seed(123)\n",
    "random.seed(123)\n",
    "np.random.seed(10)\n",
    "# 设置随机种子，使得实验结果可复现\n"
   ]
  },
  {
   "cell_type": "markdown",
   "id": "3fec83d2-f808-4875-933e-7accd87fad04",
   "metadata": {},
   "source": [
    "定义图像转换"
   ]
  },
  {
   "cell_type": "code",
   "execution_count": 3,
   "id": "37440e7a-14f6-4b95-9188-5fe66c1ae414",
   "metadata": {},
   "outputs": [],
   "source": [
    "transform = transforms.Compose(\n",
    "    [transforms.Resize((100, 100)),\n",
    "     transforms.Grayscale(num_output_channels=1),  # 添加这一行\n",
    "     transforms.ToTensor(),\n",
    "     transforms.Normalize((0.5,), (0.5,))])\n"
   ]
  },
  {
   "cell_type": "markdown",
   "id": "ce43ffa6-ce9b-4168-86ec-d6eb2242df7f",
   "metadata": {},
   "source": [
    "定义孪生网络模型"
   ]
  },
  {
   "cell_type": "code",
   "execution_count": 4,
   "id": "bdd46f4a-b8ec-49dd-a976-33401419420b",
   "metadata": {},
   "outputs": [],
   "source": [
    "class SiameseNet(nn.Module):\n",
    "    def __init__(self):\n",
    "        super(SiameseNet, self).__init__()\n",
    "        self.cnn = nn.Sequential(\n",
    "            nn.ReflectionPad2d(1),\n",
    "            # ......\n",
    "            nn.Conv2d(1, 3, 3, padding=1),\n",
    "            vgg19_cnn, nn.ReLU(inplace=True),\n",
    "            nn.BatchNorm2d(512)\n",
    "        )\n",
    "\n",
    "        self.fc1 = nn.Sequential(\n",
    "            nn.Linear(512 * 3 * 3, 1024),\n",
    "            nn.ReLU(inplace=True),\n",
    "            nn.Linear(1024, 1024),\n",
    "            nn.ReLU(inplace=True),\n",
    "            nn.Linear(1024, 512)\n",
    "        )\n",
    "\n",
    "    def forward_once(self, x):\n",
    "        o = x\n",
    "        o = self.cnn(o)\n",
    "        o = o.reshape(x.size(0), -1)\n",
    "        o = self.fc1(o)\n",
    "        return o\n",
    "\n",
    "    def forward(self, i1, i2):\n",
    "        o1 = self.forward_once(i1)\n",
    "        o2 = self.forward_once(i2)\n",
    "        return o1, o2\n"
   ]
  },
  {
   "cell_type": "markdown",
   "id": "331e115d-5362-4038-8516-c9defaac4699",
   "metadata": {},
   "source": [
    "加载预训练模型"
   ]
  },
  {
   "cell_type": "code",
   "execution_count": 5,
   "id": "c256fc4d-0e0f-4eec-a144-673d153523fb",
   "metadata": {},
   "outputs": [
    {
     "data": {
      "text/plain": [
       "SiameseNet(\n",
       "  (cnn): Sequential(\n",
       "    (0): ReflectionPad2d((1, 1, 1, 1))\n",
       "    (1): Conv2d(1, 3, kernel_size=(3, 3), stride=(1, 1), padding=(1, 1))\n",
       "    (2): Sequential(\n",
       "      (0): Conv2d(3, 64, kernel_size=(3, 3), stride=(1, 1), padding=(1, 1))\n",
       "      (1): ReLU(inplace=True)\n",
       "      (2): Conv2d(64, 64, kernel_size=(3, 3), stride=(1, 1), padding=(1, 1))\n",
       "      (3): ReLU(inplace=True)\n",
       "      (4): MaxPool2d(kernel_size=2, stride=2, padding=0, dilation=1, ceil_mode=False)\n",
       "      (5): Conv2d(64, 128, kernel_size=(3, 3), stride=(1, 1), padding=(1, 1))\n",
       "      (6): ReLU(inplace=True)\n",
       "      (7): Conv2d(128, 128, kernel_size=(3, 3), stride=(1, 1), padding=(1, 1))\n",
       "      (8): ReLU(inplace=True)\n",
       "      (9): MaxPool2d(kernel_size=2, stride=2, padding=0, dilation=1, ceil_mode=False)\n",
       "      (10): Conv2d(128, 256, kernel_size=(3, 3), stride=(1, 1), padding=(1, 1))\n",
       "      (11): ReLU(inplace=True)\n",
       "      (12): Conv2d(256, 256, kernel_size=(3, 3), stride=(1, 1), padding=(1, 1))\n",
       "      (13): ReLU(inplace=True)\n",
       "      (14): Conv2d(256, 256, kernel_size=(3, 3), stride=(1, 1), padding=(1, 1))\n",
       "      (15): ReLU(inplace=True)\n",
       "      (16): Conv2d(256, 256, kernel_size=(3, 3), stride=(1, 1), padding=(1, 1))\n",
       "      (17): ReLU(inplace=True)\n",
       "      (18): MaxPool2d(kernel_size=2, stride=2, padding=0, dilation=1, ceil_mode=False)\n",
       "      (19): Conv2d(256, 512, kernel_size=(3, 3), stride=(1, 1), padding=(1, 1))\n",
       "      (20): ReLU(inplace=True)\n",
       "      (21): Conv2d(512, 512, kernel_size=(3, 3), stride=(1, 1), padding=(1, 1))\n",
       "      (22): ReLU(inplace=True)\n",
       "      (23): Conv2d(512, 512, kernel_size=(3, 3), stride=(1, 1), padding=(1, 1))\n",
       "      (24): ReLU(inplace=True)\n",
       "      (25): Conv2d(512, 512, kernel_size=(3, 3), stride=(1, 1), padding=(1, 1))\n",
       "      (26): ReLU(inplace=True)\n",
       "      (27): MaxPool2d(kernel_size=2, stride=2, padding=0, dilation=1, ceil_mode=False)\n",
       "      (28): Conv2d(512, 512, kernel_size=(3, 3), stride=(1, 1), padding=(1, 1))\n",
       "      (29): ReLU(inplace=True)\n",
       "      (30): Conv2d(512, 512, kernel_size=(3, 3), stride=(1, 1), padding=(1, 1))\n",
       "      (31): ReLU(inplace=True)\n",
       "      (32): Conv2d(512, 512, kernel_size=(3, 3), stride=(1, 1), padding=(1, 1))\n",
       "      (33): ReLU(inplace=True)\n",
       "      (34): Conv2d(512, 512, kernel_size=(3, 3), stride=(1, 1), padding=(1, 1))\n",
       "      (35): ReLU(inplace=True)\n",
       "      (36): MaxPool2d(kernel_size=2, stride=2, padding=0, dilation=1, ceil_mode=False)\n",
       "    )\n",
       "    (3): ReLU(inplace=True)\n",
       "    (4): BatchNorm2d(512, eps=1e-05, momentum=0.1, affine=True, track_running_stats=True)\n",
       "  )\n",
       "  (fc1): Sequential(\n",
       "    (0): Linear(in_features=4608, out_features=1024, bias=True)\n",
       "    (1): ReLU(inplace=True)\n",
       "    (2): Linear(in_features=1024, out_features=1024, bias=True)\n",
       "    (3): ReLU(inplace=True)\n",
       "    (4): Linear(in_features=1024, out_features=512, bias=True)\n",
       "  )\n",
       ")"
      ]
     },
     "execution_count": 5,
     "metadata": {},
     "output_type": "execute_result"
    }
   ],
   "source": [
    "siameseNet = torch.load('siameseNet')\n",
    "siameseNet = siameseNet.to(device)\n",
    "siameseNet.eval()\n"
   ]
  },
  {
   "cell_type": "markdown",
   "id": "1350fb25-b6e1-4fa7-a285-152770f6206d",
   "metadata": {},
   "source": [
    "定义获取文件路径和标签的函数"
   ]
  },
  {
   "cell_type": "code",
   "execution_count": 6,
   "id": "b2853e86-3a33-4fd4-aab9-a6b411ba47db",
   "metadata": {},
   "outputs": [],
   "source": [
    "def getFn_Dir(tpath):\n",
    "    dirs = os.listdir(tpath)\n",
    "    file_labels = []\n",
    "    for i, dir in enumerate(dirs):\n",
    "        label = i\n",
    "        path2 = os.path.join(tpath, dir)\n",
    "        files = os.listdir(path2)\n",
    "        for file in files:\n",
    "            fn = os.path.join(path2, file)\n",
    "            t = (fn, label)\n",
    "            file_labels.append(t)\n",
    "    random.shuffle(file_labels)\n",
    "    random.shuffle(file_labels)\n",
    "    random.shuffle(file_labels)\n",
    "\n",
    "    return file_labels\n"
   ]
  },
  {
   "cell_type": "markdown",
   "id": "ed8dec9a-2975-4cbb-ad1a-fdc2ccda998e",
   "metadata": {},
   "source": [
    "定义图像处理函数"
   ]
  },
  {
   "cell_type": "code",
   "execution_count": 7,
   "id": "f9cf970a-72b0-40dc-a388-d85c18453fd1",
   "metadata": {},
   "outputs": [],
   "source": [
    "def getImg(fn):\n",
    "    img = Image.open(fn)\n",
    "    img2 = img.convert('RGB')\n",
    "    img = np.array(img)\n",
    "    img = torch.Tensor(img)\n",
    "    img = transform(img)\n",
    "    return img\n"
   ]
  },
  {
   "cell_type": "markdown",
   "id": "bc3e93f1-19d0-42a8-95ff-96a63551254d",
   "metadata": {},
   "source": [
    "初始化人脸识别级联分类器"
   ]
  },
  {
   "cell_type": "code",
   "execution_count": 8,
   "id": "fd77c392-c2f6-4b4f-a2a2-f9a9ac233272",
   "metadata": {},
   "outputs": [],
   "source": [
    "face_cascade = cv2.CascadeClassifier(cv2.data.haarcascades + 'haarcascade_frontalface_default.xml')\n"
   ]
  },
  {
   "cell_type": "markdown",
   "id": "2e9912ea-324b-405e-b396-c8842cb2a63d",
   "metadata": {},
   "source": [
    "计算并存储每个人脸图片的特征"
   ]
  },
  {
   "cell_type": "code",
   "execution_count": 9,
   "id": "b7455fbd-5445-48fe-9d91-d437a951bf09",
   "metadata": {},
   "outputs": [
    {
     "name": "stdout",
     "output_type": "stream",
     "text": [
      "已录入信息\n",
      "dict_keys(['f.jpg', 'w.png'])\n"
     ]
    }
   ],
   "source": [
    "face_features = {}\n",
    "\n",
    "face_folder = r'.\\faces'  # 你的人脸图片文件夹\n",
    "for face_name in os.listdir(face_folder):\n",
    "    face_img = cv2.imread(os.path.join(face_folder, face_name))\n",
    "    gray = cv2.cvtColor(face_img, cv2.COLOR_BGR2GRAY)\n",
    "    faces = face_cascade.detectMultiScale(gray, scaleFactor=1.1, minNeighbors=5, minSize=(30, 30))\n",
    "\n",
    "    if len(faces) != 1:\n",
    "        continue\n",
    "\n",
    "    (x, y, w, h) = faces[0]\n",
    "    face_img = face_img[y:y+h, x:x+w]\n",
    "\n",
    "    face_img = Image.fromarray(cv2.cvtColor(face_img, cv2.COLOR_BGR2RGB))\n",
    "    face_img = transform(face_img).unsqueeze(0).to(device)\n",
    "    face_feature = siameseNet.forward_once(face_img).detach().cpu().numpy()\n",
    "    face_features[face_name] = face_feature\n",
    "\n",
    "print(\"已录入信息\")\n",
    "print(face_features.keys())\n"
   ]
  },
  {
   "cell_type": "markdown",
   "id": "a3ca433b-eeba-457b-ac7d-b7ab0607170e",
   "metadata": {},
   "source": [
    "打开摄像头并进行实时人脸识别"
   ]
  },
  {
   "cell_type": "code",
   "execution_count": 10,
   "id": "e28bd538-4107-40aa-87b4-e34a18045f91",
   "metadata": {},
   "outputs": [
    {
     "name": "stdout",
     "output_type": "stream",
     "text": [
      "打开摄像头\n"
     ]
    }
   ],
   "source": [
    "cap = cv2.VideoCapture(0)\n",
    "print('打开摄像头')\n",
    "\n",
    "while True:\n",
    "    ret, frame = cap.read()\n",
    "    if not ret:\n",
    "        break\n",
    "\n",
    "    gray = cv2.cvtColor(frame, cv2.COLOR_BGR2GRAY)\n",
    "    faces = face_cascade.detectMultiScale(gray, scaleFactor=1.1, minNeighbors=5, minSize=(30, 30))\n",
    "\n",
    "    if len(faces) != 1:\n",
    "        continue\n",
    "\n",
    "    (x, y, w, h) = faces[0]\n",
    "    face_img = frame[y:y + h, x:x + w]\n",
    "\n",
    "    face_img = Image.fromarray(cv2.cvtColor(face_img, cv2.COLOR_BGR2RGB))\n",
    "    face_img = transform(face_img).unsqueeze(0).to(device)\n",
    "    face_feature = siameseNet.forward_once(face_img).detach().cpu().numpy()\n",
    "\n",
    "    distances = {name: np.linalg.norm(feature - face_feature) for name, feature in face_features.items()}\n",
    "\n",
    "    min_distance_name, min_distance = min(distances.items(), key=lambda x: x[1])\n",
    "\n",
    "    threshold = 6\n",
    "\n",
    "    if min_distance < threshold:\n",
    "        cv2.putText(frame, min_distance_name, (10, 50), cv2.FONT_HERSHEY_SIMPLEX, 1, (0, 255, 0), 2, cv2.LINE_AA)\n",
    "\n",
    "    else:\n",
    "        cv2.putText(frame, f\"{min_distance_name}:{min_distance}\", (10, 50), cv2.FONT_HERSHEY_SIMPLEX, 1, (0, 0, 255), 2,\n",
    "                    cv2.LINE_AA)\n",
    "\n",
    "    cv2.imshow('Frame', frame)\n",
    "\n",
    "    if cv2.waitKey(1) & 0xFF == ord('q'):\n",
    "        break\n",
    "\n",
    "    sleep(0.1)\n",
    "\n",
    "cap.release()\n",
    "cv2.destroyAllWindows()\n"
   ]
  }
 ],
 "metadata": {
  "kernelspec": {
   "display_name": "Python 3 (ipykernel)",
   "language": "python",
   "name": "python3"
  },
  "language_info": {
   "codemirror_mode": {
    "name": "ipython",
    "version": 3
   },
   "file_extension": ".py",
   "mimetype": "text/x-python",
   "name": "python",
   "nbconvert_exporter": "python",
   "pygments_lexer": "ipython3",
   "version": "3.11.6"
  }
 },
 "nbformat": 4,
 "nbformat_minor": 5
}
