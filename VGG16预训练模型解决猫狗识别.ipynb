{
 "cells": [
  {
   "cell_type": "code",
   "execution_count": 1,
   "id": "60175143-51ad-4d28-a3dd-b1af891def94",
   "metadata": {
    "execution": {
     "iopub.execute_input": "2024-04-19T04:19:05.641979Z",
     "iopub.status.busy": "2024-04-19T04:19:05.641459Z",
     "iopub.status.idle": "2024-04-19T04:19:07.805800Z",
     "shell.execute_reply": "2024-04-19T04:19:07.805237Z",
     "shell.execute_reply.started": "2024-04-19T04:19:05.641954Z"
    }
   },
   "outputs": [
    {
     "name": "stderr",
     "output_type": "stream",
     "text": [
      "/opt/conda/lib/python3.10/site-packages/tqdm/auto.py:21: TqdmWarning: IProgress not found. Please update jupyter and ipywidgets. See https://ipywidgets.readthedocs.io/en/stable/user_install.html\n",
      "  from .autonotebook import tqdm as notebook_tqdm\n"
     ]
    }
   ],
   "source": [
    "# Cell 1: 导入所有必要的库\n",
    "from torchvision import datasets, transforms, models\n",
    "import torch\n",
    "import torch.nn as nn\n",
    "from torch.utils.data import DataLoader, Dataset\n",
    "from PIL import Image\n",
    "import os\n",
    "import time\n"
   ]
  },
  {
   "cell_type": "code",
   "execution_count": 2,
   "id": "5b4803ac-5fe6-4224-97a9-30092531933f",
   "metadata": {
    "execution": {
     "iopub.execute_input": "2024-04-19T04:19:07.807064Z",
     "iopub.status.busy": "2024-04-19T04:19:07.806569Z",
     "iopub.status.idle": "2024-04-19T04:19:07.831371Z",
     "shell.execute_reply": "2024-04-19T04:19:07.830811Z",
     "shell.execute_reply.started": "2024-04-19T04:19:07.807041Z"
    }
   },
   "outputs": [
    {
     "name": "stdout",
     "output_type": "stream",
     "text": [
      "Device and data transformations defined.\n",
      "cuda\n",
      "Compose(\n",
      "    Resize(size=(224, 224), interpolation=bilinear, max_size=None, antialias=warn)\n",
      "    ToTensor()\n",
      ")\n"
     ]
    }
   ],
   "source": [
    "# Cell 2: 定义设备和数据转换\n",
    "device = torch.device(\"cuda\" if torch.cuda.is_available() else \"cpu\")\n",
    "\n",
    "transform = transforms.Compose([\n",
    "    transforms.Resize((224, 224)),  # 调整图像大小为(224,224)\n",
    "    transforms.ToTensor(),  # 转化张量\n",
    "])\n",
    "\n",
    "print(\"Device and data transformations defined.\")\n",
    "print(device)\n",
    "print(transform)\n"
   ]
  },
  {
   "cell_type": "code",
   "execution_count": 3,
   "id": "94633633-7b42-4166-b1f5-e97b6b825557",
   "metadata": {
    "execution": {
     "iopub.execute_input": "2024-04-19T04:19:07.832324Z",
     "iopub.status.busy": "2024-04-19T04:19:07.832102Z",
     "iopub.status.idle": "2024-04-19T04:19:07.844781Z",
     "shell.execute_reply": "2024-04-19T04:19:07.844076Z",
     "shell.execute_reply.started": "2024-04-19T04:19:07.832307Z"
    }
   },
   "outputs": [
    {
     "name": "stdout",
     "output_type": "stream",
     "text": [
      "Dataset class defined.\n"
     ]
    }
   ],
   "source": [
    "# Cell 3: 定义数据集\n",
    "class cat_dog_dataset(Dataset):\n",
    "    def __init__(self, dir):\n",
    "        self.dir = dir\n",
    "        self.files = os.listdir(dir)\n",
    "\n",
    "    def __len__(self):  # 需要重写该方法，返回数据集大小\n",
    "        t = len(self.files)\n",
    "        return t\n",
    "\n",
    "    def __getitem__(self, idx):\n",
    "        file = self.files[idx]\n",
    "        fn = os.path.join(self.dir, file)\n",
    "        img = Image.open(fn).convert('RGB')\n",
    "        img = transform(img)  # 调整图像形状为(3,224,224), 并转为张量\n",
    "        img = img.reshape(-1, 224, 224)\n",
    "        y = 0 if 'cat' in file else 1  # 构造图像的类别\n",
    "        return img, y\n",
    "\n",
    "print(\"Dataset class defined.\")\n"
   ]
  },
  {
   "cell_type": "code",
   "execution_count": 4,
   "id": "59004ca5-bcb4-48ae-8ae0-610e089748af",
   "metadata": {
    "ExecutionIndicator": {
     "show": true
    },
    "execution": {
     "iopub.execute_input": "2024-04-19T04:19:07.846171Z",
     "iopub.status.busy": "2024-04-19T04:19:07.845951Z",
     "iopub.status.idle": "2024-04-19T04:19:07.853974Z",
     "shell.execute_reply": "2024-04-19T04:19:07.853483Z",
     "shell.execute_reply.started": "2024-04-19T04:19:07.846154Z"
    },
    "tags": []
   },
   "outputs": [
    {
     "name": "stdout",
     "output_type": "stream",
     "text": [
      "训练集大小： 8005\n",
      "测试集大小： 2023\n"
     ]
    }
   ],
   "source": [
    "# Cell 4: 加载数据集\n",
    "batch_size = 20\n",
    "train_dir = './data/catdog/training_set'  # 训练集所在的目录\n",
    "test_dir = './data/catdog/test_set'  # 测试集所在的目录\n",
    "train_dataset = cat_dog_dataset(train_dir)  # 创建数据集\n",
    "train_loader = DataLoader(dataset=train_dataset,  # 打包\n",
    "                          batch_size=batch_size,\n",
    "                          shuffle=True)\n",
    "test_dataset = cat_dog_dataset(test_dir)\n",
    "test_loader = DataLoader(dataset=test_dataset,\n",
    "                         batch_size=batch_size,\n",
    "                         shuffle=True)\n",
    "print('训练集大小：', len(train_loader.dataset))\n",
    "print('测试集大小：', len(test_loader.dataset))\n"
   ]
  },
  {
   "cell_type": "code",
   "execution_count": 5,
   "id": "02ba7a7d-2965-4a33-a5bd-f558414d34a1",
   "metadata": {
    "execution": {
     "iopub.execute_input": "2024-04-19T04:19:07.855081Z",
     "iopub.status.busy": "2024-04-19T04:19:07.854707Z",
     "iopub.status.idle": "2024-04-19T04:19:11.605051Z",
     "shell.execute_reply": "2024-04-19T04:19:11.604557Z",
     "shell.execute_reply.started": "2024-04-19T04:19:07.855056Z"
    }
   },
   "outputs": [
    {
     "name": "stderr",
     "output_type": "stream",
     "text": [
      "/opt/conda/lib/python3.10/site-packages/torchvision/models/_utils.py:208: UserWarning: The parameter 'pretrained' is deprecated since 0.13 and may be removed in the future, please use 'weights' instead.\n",
      "  warnings.warn(\n",
      "/opt/conda/lib/python3.10/site-packages/torchvision/models/_utils.py:223: UserWarning: Arguments other than a weight enum or `None` for 'weights' are deprecated since 0.13 and may be removed in the future. The current behavior is equivalent to passing `weights=VGG16_Weights.IMAGENET1K_V1`. You can also use `weights=VGG16_Weights.DEFAULT` to get the most up-to-date weights.\n",
      "  warnings.warn(msg)\n"
     ]
    }
   ],
   "source": [
    "# Cell 5: 定义模型\n",
    "# =====模型====\n",
    "vgg16 = models.vgg16(pretrained=True).to(device)\n",
    "\n",
    "conv1 = nn.Conv2d(3, 3, 3)  # (1, 3)，新定义\n",
    "conv2 = vgg16.features[0]  # (3, 64)，来自 VGG16，参数需要冻结\n",
    "conv3 = vgg16.features[2]  # (64, 64)，来自 VGG16，参数需要冻结\n",
    "conv4 = nn.Conv2d(64, 512, 3)  # (64, 512)，新定义\n",
    "conv5 = vgg16.features[28]  # (512, 512)，来自 VGG16，参数需要冻结\n",
    "\n",
    "L = [conv2, conv3, conv5]  # 对这些网络层上的参数进行冻结\n",
    "for layer in L:\n",
    "    for param in layer.parameters():\n",
    "        param.requires_grad = False\n",
    "\n",
    "class Net(nn.Module):\n",
    "    def __init__(self):\n",
    "        super().__init__()\n",
    "        # 卷积层\n",
    "        self.conv1 = conv1\n",
    "        self.conv2 = conv2\n",
    "        self.conv3 = conv3\n",
    "        self.conv4 = conv4\n",
    "        self.conv5 = conv5\n",
    "        # 全连接层\n",
    "        self.fc1 = nn.Linear(512 * 6 * 6, 2048)\n",
    "        self.fc2 = nn.Linear(2048, 1024)\n",
    "        self.fc3 = nn.Linear(1024, 2)\n",
    "\n",
    "    def forward(self, x):  # torch.Size([16, 1, 224, 224])\n",
    "        o = x\n",
    "        o = self.conv1(o)  # torch.Size([16, 3, 222, 222])\n",
    "        o = nn.ReLU(inplace=True)(o)\n",
    "        o = nn.MaxPool2d(2, 2)(o)  # torch.Size([16, 3, 111, 111])\n",
    "\n",
    "        o = self.conv2(o)\n",
    "        o = nn.ReLU(inplace=True)(o)\n",
    "        o = nn.MaxPool2d(2, 2)(o)\n",
    "\n",
    "        o = self.conv3(o)\n",
    "        o = nn.ReLU(inplace=True)(o)\n",
    "        o = nn.MaxPool2d(2, 2)(o)\n",
    "\n",
    "        o = self.conv4(o)\n",
    "        o = nn.ReLU(inplace=True)(o)\n",
    "        o = nn.MaxPool2d(2, 2)(o)\n",
    "\n",
    "        o = self.conv5(o)\n",
    "        o = nn.ReLU(inplace=True)(o)\n",
    "        o = nn.MaxPool2d(2, 2)(o)\n",
    "\n",
    "        o = o.reshape(x.size(0), -1)\n",
    "\n",
    "        o = self.fc1(o)  # 全连接层\n",
    "        o = nn.ReLU(inplace=True)(o)\n",
    "        o = nn.Dropout(p=0.5, inplace=False)(o)\n",
    "        o = self.fc2(o)  # 全连接层\n",
    "        o = nn.ReLU(inplace=True)(o)\n",
    "        o = nn.Dropout(p=0.5, inplace=False)(o)\n",
    "        o = self.fc3(o)  # 全连接层\n",
    "        return o"
   ]
  },
  {
   "cell_type": "code",
   "execution_count": 6,
   "id": "0d237d15-d9bd-429b-b30c-74e583455913",
   "metadata": {
    "execution": {
     "iopub.execute_input": "2024-04-19T04:19:11.606015Z",
     "iopub.status.busy": "2024-04-19T04:19:11.605772Z",
     "iopub.status.idle": "2024-04-19T04:19:13.976959Z",
     "shell.execute_reply": "2024-04-19T04:19:13.976371Z",
     "shell.execute_reply.started": "2024-04-19T04:19:11.605999Z"
    }
   },
   "outputs": [
    {
     "name": "stdout",
     "output_type": "stream",
     "text": [
      "该模型的参数总数为：42545046，其中可训练的参数总数为：      40146518，占的百分比为：94.36%\n",
      "输入和输出的形状分别为： torch.Size([16, 3, 224, 224]) torch.Size([16, 2])\n"
     ]
    }
   ],
   "source": [
    "# Cell 6: 测试模型结构\n",
    "net = Net().to(device)\n",
    "x = torch.randn(16, 3, 224, 224).to(device)  # 随机产生测试数据\n",
    "y = net(x)  # 调用网络模型\n",
    "\n",
    "param_sum = 0  # 统计参数总数\n",
    "trainable_param_sum = 0  # 统计可训练的参数总数\n",
    "for param in net.parameters():\n",
    "    n = 1\n",
    "    for j in range(len(param.shape)):  # 统计当前层的参数个数\n",
    "        n = n * param.size(j)\n",
    "    param_sum += n\n",
    "    if param.requires_grad:\n",
    "        trainable_param_sum += n\n",
    "print('该模型的参数总数为：{:.0f}，其中可训练的参数总数为：\\\n",
    "      {:.0f}，占的百分比为：{:.2f}%'. \\\n",
    "      format(param_sum, trainable_param_sum, \\\n",
    "             100. * trainable_param_sum / param_sum))\n",
    "\n",
    "print('输入和输出的形状分别为：', x.shape, y.shape)\n"
   ]
  },
  {
   "cell_type": "code",
   "execution_count": 7,
   "id": "dccd5e19-56ae-4bc8-995e-6bf21f804a08",
   "metadata": {
    "ExecutionIndicator": {
     "show": true
    },
    "execution": {
     "iopub.execute_input": "2024-04-19T04:19:13.978082Z",
     "iopub.status.busy": "2024-04-19T04:19:13.977715Z",
     "iopub.status.idle": "2024-04-19T04:45:47.827119Z",
     "shell.execute_reply": "2024-04-19T04:45:47.826535Z",
     "shell.execute_reply.started": "2024-04-19T04:19:13.978064Z"
    },
    "tags": []
   },
   "outputs": [
    {
     "name": "stdout",
     "output_type": "stream",
     "text": [
      "第 1 轮循环中，损失函数的平均值为: 0.6928\n",
      "第 2 轮循环中，损失函数的平均值为: 0.6774\n",
      "第 3 轮循环中，损失函数的平均值为: 0.6590\n",
      "第 4 轮循环中，损失函数的平均值为: 0.6031\n",
      "第 5 轮循环中，损失函数的平均值为: 0.5589\n",
      "第 6 轮循环中，损失函数的平均值为: 0.5308\n",
      "第 7 轮循环中，损失函数的平均值为: 0.5070\n",
      "第 8 轮循环中，损失函数的平均值为: 0.4849\n",
      "第 9 轮循环中，损失函数的平均值为: 0.4565\n",
      "第 10 轮循环中，损失函数的平均值为: 0.4316\n",
      "第 11 轮循环中，损失函数的平均值为: 0.4105\n",
      "第 12 轮循环中，损失函数的平均值为: 0.3827\n",
      "第 13 轮循环中，损失函数的平均值为: 0.3721\n",
      "第 14 轮循环中，损失函数的平均值为: 0.3364\n",
      "第 15 轮循环中，损失函数的平均值为: 0.3139\n",
      "第 16 轮循环中，损失函数的平均值为: 0.3153\n",
      "第 17 轮循环中，损失函数的平均值为: 0.2847\n",
      "第 18 轮循环中，损失函数的平均值为: 0.2478\n",
      "第 19 轮循环中，损失函数的平均值为: 0.2182\n",
      "第 20 轮循环中，损失函数的平均值为: 0.1961\n",
      "第 21 轮循环中，损失函数的平均值为: 0.1804\n",
      "第 22 轮循环中，损失函数的平均值为: 0.1671\n",
      "第 23 轮循环中，损失函数的平均值为: 0.1595\n",
      "第 24 轮循环中，损失函数的平均值为: 0.1277\n",
      "第 25 轮循环中，损失函数的平均值为: 0.1260\n",
      "第 26 轮循环中，损失函数的平均值为: 0.1219\n",
      "第 27 轮循环中，损失函数的平均值为: 0.0869\n",
      "第 28 轮循环中，损失函数的平均值为: 0.0959\n",
      "第 29 轮循环中，损失函数的平均值为: 0.0852\n",
      "第 30 轮循环中，损失函数的平均值为: 0.0707\n",
      "第 31 轮循环中，损失函数的平均值为: 0.0619\n",
      "第 32 轮循环中，损失函数的平均值为: 0.0711\n",
      "第 33 轮循环中，损失函数的平均值为: 0.0749\n",
      "第 34 轮循环中，损失函数的平均值为: 0.0642\n",
      "第 35 轮循环中，损失函数的平均值为: 0.0461\n",
      "第 36 轮循环中，损失函数的平均值为: 0.0530\n",
      "第 37 轮循环中，损失函数的平均值为: 0.0388\n",
      "第 38 轮循环中，损失函数的平均值为: 0.0479\n",
      "第 39 轮循环中，损失函数的平均值为: 0.0457\n",
      "第 40 轮循环中，损失函数的平均值为: 0.0358\n",
      "第 41 轮循环中，损失函数的平均值为: 0.0317\n",
      "第 42 轮循环中，损失函数的平均值为: 0.0196\n",
      "第 43 轮循环中，损失函数的平均值为: 0.0456\n",
      "第 44 轮循环中，损失函数的平均值为: 0.0294\n",
      "第 45 轮循环中，损失函数的平均值为: 0.0246\n",
      "第 46 轮循环中，损失函数的平均值为: 0.0848\n",
      "第 47 轮循环中，损失函数的平均值为: 0.0315\n",
      "第 48 轮循环中，损失函数的平均值为: 0.0374\n",
      "第 49 轮循环中，损失函数的平均值为: 0.0240\n",
      "第 50 轮循环中，损失函数的平均值为: 0.0461\n",
      "训练时间为:  1593.8 秒 \n"
     ]
    }
   ],
   "source": [
    "# Cell 7: 训练模型\n",
    "optimizer = torch.optim.SGD(net.parameters(), lr=0.01, momentum=0.9)\n",
    "\n",
    "start = time.time()  # 开始计时\n",
    "net.train()\n",
    "for epoch in range(50):  \n",
    "    ep_loss = 0\n",
    "    for i, (x, y) in enumerate(train_loader):\n",
    "        x, y = x.to(device), y.to(device)\n",
    "        pre_y = net(x)\n",
    "        loss = nn.CrossEntropyLoss()(pre_y, y.long())  # 使用交叉熵损失函数\n",
    "        ep_loss += loss * x.size(0)  # loss是损失函数的平均值,故要乘以样本数量\n",
    "        optimizer.zero_grad()\n",
    "        loss.backward()\n",
    "        optimizer.step()\n",
    "\n",
    "    print('第 %d 轮循环中，损失函数的平均值为: %.4f' \\\n",
    "          % (epoch + 1, (ep_loss / len(train_loader.dataset))))\n",
    "end = time.time()  # 计时结束\n",
    "print('训练时间为:  %.1f 秒 ' % (end - start))\n"
   ]
  },
  {
   "cell_type": "code",
   "execution_count": 8,
   "id": "e7418922-bda9-435c-9666-db9ea3f19f5d",
   "metadata": {
    "execution": {
     "iopub.execute_input": "2024-04-19T04:45:47.828159Z",
     "iopub.status.busy": "2024-04-19T04:45:47.827890Z",
     "iopub.status.idle": "2024-04-19T04:46:28.259500Z",
     "shell.execute_reply": "2024-04-19T04:46:28.258753Z",
     "shell.execute_reply.started": "2024-04-19T04:45:47.828141Z"
    },
    "tags": []
   },
   "outputs": [
    {
     "name": "stdout",
     "output_type": "stream",
     "text": [
      "1、网络模型在训练集上的准确率：99.50%\n",
      "2、网络模型在测试集上的准确率：80.03%\n"
     ]
    }
   ],
   "source": [
    "# Cell 8: 测试模型\n",
    "correct = 0\n",
    "net.eval()\n",
    "with torch.no_grad():\n",
    "    for i, (x, y) in enumerate(train_loader):  # 计算在训练集上的准确率\n",
    "        x, y = x.to(device), y.to(device)\n",
    "        pre_y = net(x)\n",
    "        pre_y = torch.argmax(pre_y, dim=1)\n",
    "        t = (pre_y == y).long().sum()\n",
    "        correct += t\n",
    "t = 1. * correct / len(train_loader.dataset)\n",
    "print('1、网络模型在训练集上的准确率：{:.2f}%' \\\n",
    "      .format(100 * t.item()))\n",
    "\n",
    "correct = 0\n",
    "with torch.no_grad():\n",
    "    for i, (x, y) in enumerate(test_loader):  # 计算在测试集上的准确率\n",
    "        x, y = x.to(device), y.to(device)\n",
    "        pre_y = net(x)\n",
    "        pre_y = torch.argmax(pre_y, dim=1)\n",
    "        t = (pre_y == y).long().sum()\n",
    "        correct += t\n",
    "t = 1. * correct / len(test_loader.dataset)\n",
    "print('2、网络模型在测试集上的准确率：{:.2f}%' \\\n",
    "      .format(100 * t.item()))\n"
   ]
  }
 ],
 "metadata": {
  "kernelspec": {
   "display_name": "Python 3 (ipykernel)",
   "language": "python",
   "name": "python3"
  },
  "language_info": {
   "codemirror_mode": {
    "name": "ipython",
    "version": 3
   },
   "file_extension": ".py",
   "mimetype": "text/x-python",
   "name": "python",
   "nbconvert_exporter": "python",
   "pygments_lexer": "ipython3",
   "version": "3.11.6"
  }
 },
 "nbformat": 4,
 "nbformat_minor": 5
}
